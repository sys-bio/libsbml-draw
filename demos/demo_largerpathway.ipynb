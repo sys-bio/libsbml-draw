{
 "cells": [
  {
   "cell_type": "code",
   "execution_count": 1,
   "metadata": {
    "collapsed": false
   },
   "outputs": [
    {
     "name": "stdout",
     "output_type": "stream",
     "text": [
      "DLL FILE:  <class 'pathlib.WindowsPath'> c:\\users\\nhawk\\documents\\repos\\libsbml-draw\\src\\python\\libsbml_draw\\c_api\\data\\sbnw.dll\n"
     ]
    }
   ],
   "source": [
    "from libsbml_draw.model.sbml_layout import SBMLlayout"
   ]
  },
  {
   "cell_type": "code",
   "execution_count": null,
   "metadata": {
    "collapsed": true
   },
   "outputs": [],
   "source": [
    "model_file = \"C:\\\\tmp\\\\largerpathway.xml\"\n",
    "sl = SBMLlayout(model_file)"
   ]
  }
 ],
 "metadata": {
  "kernelspec": {
   "display_name": "Python 3",
   "language": "python",
   "name": "python3"
  },
  "language_info": {
   "codemirror_mode": {
    "name": "ipython",
    "version": 3
   },
   "file_extension": ".py",
   "mimetype": "text/x-python",
   "name": "python",
   "nbconvert_exporter": "python",
   "pygments_lexer": "ipython3",
   "version": "3.6.8"
  }
 },
 "nbformat": 4,
 "nbformat_minor": 2
}
