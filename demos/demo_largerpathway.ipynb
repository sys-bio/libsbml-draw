{
 "cells": [
  {
   "cell_type": "code",
   "execution_count": 1,
   "metadata": {},
   "outputs": [
    {
     "name": "stdout",
     "output_type": "stream",
     "text": [
      "DLL FILE:  <class 'pathlib.WindowsPath'> c:\\users\\nrhaw\\documents\\repos\\libsbml-draw\\src\\python\\libsbml_draw\\c_api\\data\\sbnw.dll\n"
     ]
    }
   ],
   "source": [
    "from libsbml_draw.model.sbml_layout import SBMLlayout"
   ]
  },
  {
   "cell_type": "code",
   "execution_count": 2,
   "metadata": {},
   "outputs": [
    {
     "name": "stdout",
     "output_type": "stream",
     "text": [
      "TODO: apply Render information\n"
     ]
    }
   ],
   "source": [
    "model_file = \"C:\\\\tmp\\\\largerpathway.xml\"\n",
    "sl = SBMLlayout(model_file)"
   ]
  },
  {
   "cell_type": "code",
   "execution_count": 3,
   "metadata": {},
   "outputs": [
    {
     "name": "stdout",
     "output_type": "stream",
     "text": [
      "\n",
      "sbml filename:  C:\\tmp\\largerpathway.xml\n",
      "layout number:  0\n",
      "layout is specified:  True\n",
      "number of Compartments:  0\n",
      "number of Nodes:  6\n",
      "number of Reactions:  5\n"
     ]
    },
    {
     "data": {
      "text/plain": [
       "(0, 6, 5)"
      ]
     },
     "execution_count": 3,
     "metadata": {},
     "output_type": "execute_result"
    }
   ],
   "source": [
    "sl._describeModel()"
   ]
  },
  {
   "cell_type": "code",
   "execution_count": 4,
   "metadata": {},
   "outputs": [
    {
     "data": {
      "image/png": "[encoded data removed]",
      "text/plain": [
       "<Figure size 432x288 with 1 Axes>"
      ]
     },
     "metadata": {},
     "output_type": "display_data"
    }
   ],
   "source": [
    "sl.drawNetwork()"
   ]
  },
  {
   "cell_type": "code",
   "execution_count": 7,
   "metadata": {},
   "outputs": [
    {
     "name": "stdout",
     "output_type": "stream",
     "text": [
      "TODO: apply Render information\n"
     ]
    }
   ],
   "source": [
    "s2 = SBMLlayout(model_file)"
   ]
  },
  {
   "cell_type": "code",
   "execution_count": null,
   "metadata": {},
   "outputs": [],
   "source": []
  }
 ],
 "metadata": {
  "kernelspec": {
   "display_name": "Python 3",
   "language": "python",
   "name": "python3"
  },
  "language_info": {
   "codemirror_mode": {
    "name": "ipython",
    "version": 3
   },
   "file_extension": ".py",
   "mimetype": "text/x-python",
   "name": "python",
   "nbconvert_exporter": "python",
   "pygments_lexer": "ipython3",
   "version": "3.6.5"
  }
 },
 "nbformat": 4,
 "nbformat_minor": 2
}
