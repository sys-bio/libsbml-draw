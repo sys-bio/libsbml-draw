{
 "cells": [
  {
   "cell_type": "code",
   "execution_count": 1,
   "metadata": {
    "collapsed": false
   },
   "outputs": [
    {
     "name": "stdout",
     "output_type": "stream",
     "text": [
      "DLL FILE:  <class 'pathlib.WindowsPath'> c:\\users\\nhawk\\documents\\repos\\libsbml-draw\\src\\python\\libsbml_draw\\c_api\\data\\sbnw.dll\n"
     ]
    }
   ],
   "source": [
    "from libsbml_draw.model.sbml_layout import SBMLlayout"
   ]
  },
  {
   "cell_type": "code",
   "execution_count": 2,
   "metadata": {
    "collapsed": false
   },
   "outputs": [
    {
     "name": "stdout",
     "output_type": "stream",
     "text": [
      "model type:  <class 'libsbml.Model'>\n",
      "num layouts:  1\n",
      "num global info:  1\n",
      "num local info:  0\n",
      "color definitions:  10\n",
      "styles:  10\n",
      "set node font_name to:  Verdana\n",
      "set node font_name to:  Verdana\n",
      "set node color:  #a0e0a030\n",
      "set node color:  #a0e0a030\n"
     ]
    }
   ],
   "source": [
    "model_file = \"C:\\\\tmp\\\\copasi.xml\"\n",
    "sl = SBMLlayout(model_file)"
   ]
  },
  {
   "cell_type": "code",
   "execution_count": 3,
   "metadata": {
    "collapsed": false
   },
   "outputs": [
    {
     "name": "stdout",
     "output_type": "stream",
     "text": [
      "drawing the nodes\n",
      "drawing the edges\n",
      "1 nw edges\n",
      "2  edge patches\n",
      "adding the labels\n",
      "finishing plot\n"
     ]
    },
    {
     "data": {
      "image/png": "[encoded data removed]",
      "text/plain": [
       "<matplotlib.figure.Figure at 0x2694c7d7dd8>"
      ]
     },
     "metadata": {},
     "output_type": "display_data"
    }
   ],
   "source": [
    "sl.drawNetwork()"
   ]
  },
  {
   "cell_type": "code",
   "execution_count": null,
   "metadata": {
    "collapsed": true
   },
   "outputs": [],
   "source": []
  }
 ],
 "metadata": {
  "kernelspec": {
   "display_name": "Python 3",
   "language": "python",
   "name": "python3"
  },
  "language_info": {
   "codemirror_mode": {
    "name": "ipython",
    "version": 3
   },
   "file_extension": ".py",
   "mimetype": "text/x-python",
   "name": "python",
   "nbconvert_exporter": "python",
   "pygments_lexer": "ipython3",
   "version": "3.6.8"
  }
 },
 "nbformat": 4,
 "nbformat_minor": 2
}
